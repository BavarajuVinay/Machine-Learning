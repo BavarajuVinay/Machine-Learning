{
 "cells": [
  {
   "cell_type": "code",
   "execution_count": 203,
   "id": "a8e12465",
   "metadata": {},
   "outputs": [
    {
     "data": {
      "text/html": [
       "<div>\n",
       "<style scoped>\n",
       "    .dataframe tbody tr th:only-of-type {\n",
       "        vertical-align: middle;\n",
       "    }\n",
       "\n",
       "    .dataframe tbody tr th {\n",
       "        vertical-align: top;\n",
       "    }\n",
       "\n",
       "    .dataframe thead th {\n",
       "        text-align: right;\n",
       "    }\n",
       "</style>\n",
       "<table border=\"1\" class=\"dataframe\">\n",
       "  <thead>\n",
       "    <tr style=\"text-align: right;\">\n",
       "      <th></th>\n",
       "      <th>sky</th>\n",
       "      <th>temperature</th>\n",
       "      <th>humid</th>\n",
       "      <th>wind</th>\n",
       "      <th>water</th>\n",
       "      <th>forest</th>\n",
       "      <th>output</th>\n",
       "    </tr>\n",
       "  </thead>\n",
       "  <tbody>\n",
       "    <tr>\n",
       "      <th>0</th>\n",
       "      <td>sunny</td>\n",
       "      <td>warm</td>\n",
       "      <td>normal</td>\n",
       "      <td>strong</td>\n",
       "      <td>warm</td>\n",
       "      <td>same</td>\n",
       "      <td>yes</td>\n",
       "    </tr>\n",
       "    <tr>\n",
       "      <th>1</th>\n",
       "      <td>sunny</td>\n",
       "      <td>warm</td>\n",
       "      <td>high</td>\n",
       "      <td>strong</td>\n",
       "      <td>warm</td>\n",
       "      <td>same</td>\n",
       "      <td>yes</td>\n",
       "    </tr>\n",
       "    <tr>\n",
       "      <th>2</th>\n",
       "      <td>rainy</td>\n",
       "      <td>cold</td>\n",
       "      <td>high</td>\n",
       "      <td>strong</td>\n",
       "      <td>warm</td>\n",
       "      <td>change</td>\n",
       "      <td>no</td>\n",
       "    </tr>\n",
       "    <tr>\n",
       "      <th>3</th>\n",
       "      <td>sunny</td>\n",
       "      <td>warm</td>\n",
       "      <td>high</td>\n",
       "      <td>strong</td>\n",
       "      <td>cool</td>\n",
       "      <td>change</td>\n",
       "      <td>yes</td>\n",
       "    </tr>\n",
       "  </tbody>\n",
       "</table>\n",
       "</div>"
      ],
      "text/plain": [
       "     sky temperature   humid    wind water  forest output\n",
       "0  sunny        warm  normal  strong  warm    same    yes\n",
       "1  sunny        warm    high  strong  warm    same    yes\n",
       "2  rainy        cold    high  strong  warm  change     no\n",
       "3  sunny        warm    high  strong  cool  change    yes"
      ]
     },
     "execution_count": 203,
     "metadata": {},
     "output_type": "execute_result"
    }
   ],
   "source": [
    "import pandas as pd\n",
    "data=pd.read_excel(r\"C:\\Users\\B V N DURGA VINAY\\Downloads\\candidate.csv\")\n",
    "data"
   ]
  },
  {
   "cell_type": "code",
   "execution_count": 204,
   "id": "68fcef41",
   "metadata": {},
   "outputs": [
    {
     "data": {
      "text/plain": [
       "(4, 7)"
      ]
     },
     "execution_count": 204,
     "metadata": {},
     "output_type": "execute_result"
    }
   ],
   "source": [
    "data.shape"
   ]
  },
  {
   "cell_type": "code",
   "execution_count": 205,
   "id": "f4b9905b",
   "metadata": {},
   "outputs": [
    {
     "name": "stdout",
     "output_type": "stream",
     "text": [
      "['0', '0', '0', '0', '0', '0']\n"
     ]
    }
   ],
   "source": [
    "S=[]\n",
    "for i in range(0,data.shape[1]-1):\n",
    "    S.append('0')\n",
    "print(S)"
   ]
  },
  {
   "cell_type": "code",
   "execution_count": 206,
   "id": "e5de4652",
   "metadata": {},
   "outputs": [
    {
     "name": "stdout",
     "output_type": "stream",
     "text": [
      "[['?', '?', '?', '?', '?', '?'], ['?', '?', '?', '?', '?', '?'], ['?', '?', '?', '?', '?', '?'], ['?', '?', '?', '?', '?', '?'], ['?', '?', '?', '?', '?', '?'], ['?', '?', '?', '?', '?', '?']]\n"
     ]
    }
   ],
   "source": [
    "G = [['?' for i in range(data.shape[1]-1)] for i in range(data.shape[1]-1)]\n",
    "print(G)"
   ]
  },
  {
   "cell_type": "code",
   "execution_count": 207,
   "id": "c21659bb",
   "metadata": {},
   "outputs": [
    {
     "name": "stdout",
     "output_type": "stream",
     "text": [
      "[['sunny', 'warm', 'normal', 'strong', 'warm', 'same'], ['sunny', 'warm', 'high', 'strong', 'warm', 'same'], ['rainy', 'cold', 'high', 'strong', 'warm', 'change'], ['sunny', 'warm', 'high', 'strong', 'cool', 'change']]\n",
      "['yes', 'yes', 'no', 'yes']\n"
     ]
    }
   ],
   "source": [
    "x = data.iloc[:,:-1]\n",
    "y = data.iloc[:,-1]\n",
    "a = X.values.tolist()\n",
    "b = Y.values.tolist()\n",
    "print(a)\n",
    "print(b)"
   ]
  },
  {
   "cell_type": "code",
   "execution_count": 208,
   "id": "f3e9d7bd",
   "metadata": {},
   "outputs": [
    {
     "name": "stdout",
     "output_type": "stream",
     "text": [
      "yes\n",
      "['sunny', 'warm', 'normal', 'strong', 'warm', 'same']\n",
      "yes\n",
      "['sunny', 'warm', 'high', 'strong', 'warm', 'same']\n",
      "no\n",
      "['rainy', 'cold', 'high', 'strong', 'warm', 'change']\n",
      "yes\n",
      "['sunny', 'warm', 'high', 'strong', 'cool', 'change']\n",
      "G: [['sunny', '?', '?', '?', '?', '?'], ['?', 'warm', '?', '?', '?', '?'], ['?', '?', '?', '?', '?', '?'], ['?', '?', '?', '?', '?', '?'], ['?', '?', '?', '?', '?', '?'], ['?', '?', '?', '?', '?', 'same']]\n"
     ]
    }
   ],
   "source": [
    "l=a[0]\n",
    "m=0\n",
    "for i in range(0,data.shape[0]):\n",
    "        n=b[i]\n",
    "        k=list(a[i])\n",
    "        print(n)\n",
    "        print(k)\n",
    "        if(n=='yes'):\n",
    "            for j in range(0,len(l)):\n",
    "                    if k[j]!=S[j] and S[j]!='0':\n",
    "                        S[j]='?'\n",
    "                    elif k[j]!=S[j] and S[j]=='0':\n",
    "                        S=k\n",
    "        else:\n",
    "            for j in range(0,len(l)):\n",
    "                if k[j]!=S[j]:\n",
    "                    G[m][j]=S[j]\n",
    "                    m=m+1\n",
    "                else:\n",
    "                    G[m][j]='?'\n",
    "                    m=m+1\n",
    "print(\"G:\",G)"
   ]
  },
  {
   "cell_type": "code",
   "execution_count": 209,
   "id": "0c089e8f",
   "metadata": {},
   "outputs": [
    {
     "name": "stdout",
     "output_type": "stream",
     "text": [
      "G is [['sunny', '?', '?', '?', '?', '?'], ['?', 'warm', '?', '?', '?', '?']]\n",
      "S is ['sunny', 'warm', '?', 'strong', '?', '?']\n"
     ]
    }
   ],
   "source": [
    "G1 = list(G)\n",
    "r = [G[j].count('?') for j in range(len(G))]\n",
    "for i in r:\n",
    "    if i>data.shape[1]-2:\n",
    "        G.pop(r.index(i))\n",
    "p = []\n",
    "for i in range(len(a)):\n",
    "    if b[i]=='yes':\n",
    "        p.append(a[i])\n",
    "c = 0\n",
    "for i in range(len(G1[0])):\n",
    "    if p[c][i]!=G1[c][i]:\n",
    "        G1.pop(c)\n",
    "    else:\n",
    "        c=c+1\n",
    "print(\"G is\",G1)\n",
    "print(\"S is\",S)            "
   ]
  },
  {
   "cell_type": "code",
   "execution_count": null,
   "id": "c09a55ee",
   "metadata": {},
   "outputs": [],
   "source": []
  },
  {
   "cell_type": "code",
   "execution_count": null,
   "id": "6c634fdc",
   "metadata": {},
   "outputs": [],
   "source": []
  },
  {
   "cell_type": "code",
   "execution_count": null,
   "id": "480b4219",
   "metadata": {},
   "outputs": [],
   "source": []
  }
 ],
 "metadata": {
  "kernelspec": {
   "display_name": "Python 3 (ipykernel)",
   "language": "python",
   "name": "python3"
  },
  "language_info": {
   "codemirror_mode": {
    "name": "ipython",
    "version": 3
   },
   "file_extension": ".py",
   "mimetype": "text/x-python",
   "name": "python",
   "nbconvert_exporter": "python",
   "pygments_lexer": "ipython3",
   "version": "3.9.13"
  }
 },
 "nbformat": 4,
 "nbformat_minor": 5
}
