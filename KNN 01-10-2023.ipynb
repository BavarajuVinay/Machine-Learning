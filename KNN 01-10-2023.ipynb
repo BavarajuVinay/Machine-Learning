{
 "cells": [
  {
   "cell_type": "code",
   "execution_count": 470,
   "id": "e5d3665e",
   "metadata": {},
   "outputs": [
    {
     "name": "stdout",
     "output_type": "stream",
     "text": [
      "        Name  Age  Gender Class of sports\n",
      "0       ajay   36       0        football\n",
      "1       mark   36       0         neither\n",
      "2       sara   20       1         cricket\n",
      "3      zaira   30       1         cricket\n",
      "4     sachin   44       0         neither\n",
      "5       neha   41       1         cricket\n",
      "6        dev   49       0        football\n",
      "7       riya   48       1         cricket\n",
      "8      karan   37       0         neither\n",
      "9     aditya   41       0         cricket\n",
      "10    mihira   54       1         cricket\n",
      "11    kinara   37       1        football\n",
      "12    bhavya   42       1         neither\n",
      "13     vinay   32       0         neither\n",
      "14     ramya   42       1        football\n",
      "15     kavya   39       1         cricket\n",
      "16  surendra   39       0         cricket\n",
      "17      hema   53       1        football\n",
      "18    harika   57       1         cricket\n",
      "19   vagdevi   42       1        football\n"
     ]
    }
   ],
   "source": [
    "# KNN Classifier \n",
    "import pandas as pd \n",
    "data = pd.read_csv(r\"C:\\Users\\ML Lab\\Downloads\\datset1.csv\")\n",
    "print(data)"
   ]
  },
  {
   "cell_type": "code",
   "execution_count": 458,
   "id": "8f97645b",
   "metadata": {},
   "outputs": [
    {
     "name": "stdout",
     "output_type": "stream",
     "text": [
      "    Age  Gender\n",
      "0    36       0\n",
      "1    36       0\n",
      "2    20       1\n",
      "3    30       1\n",
      "4    44       0\n",
      "5    41       1\n",
      "6    49       0\n",
      "7    48       1\n",
      "8    37       0\n",
      "9    41       0\n",
      "10   54       1\n",
      "11   37       1\n",
      "12   42       1\n",
      "13   32       0\n",
      "14   42       1\n",
      "15   39       1\n",
      "16   39       0\n",
      "17   53       1\n",
      "18   57       1\n",
      "19   42       1\n",
      "0     football\n",
      "1      neither\n",
      "2      cricket\n",
      "3      cricket\n",
      "4      neither\n",
      "5      cricket\n",
      "6     football\n",
      "7      cricket\n",
      "8      neither\n",
      "9      cricket\n",
      "10    creicket\n",
      "11    football\n",
      "12     neither\n",
      "13     neither\n",
      "14    football\n",
      "15     cricket\n",
      "16     cricket\n",
      "17    football\n",
      "18     cricket\n",
      "19    football\n",
      "Name: Class of sports, dtype: object\n"
     ]
    }
   ],
   "source": [
    "X = data.iloc[:,1:3]\n",
    "y = data.iloc[:,-1]\n",
    "print(X)\n",
    "print(y)"
   ]
  },
  {
   "cell_type": "code",
   "execution_count": 459,
   "id": "8a7f3dcb",
   "metadata": {},
   "outputs": [
    {
     "name": "stdout",
     "output_type": "stream",
     "text": [
      "    Age  Gender\n",
      "0     3       0\n",
      "1     3       0\n",
      "2     0       1\n",
      "3     1       1\n",
      "4     8       0\n",
      "5     6       1\n",
      "6    10       0\n",
      "7     9       1\n",
      "8     4       0\n",
      "9     6       0\n",
      "10   12       1\n",
      "11    4       1\n",
      "12    7       1\n",
      "13    2       0\n",
      "14    7       1\n",
      "15    5       1\n",
      "16    5       0\n",
      "17   11       1\n",
      "18   13       1\n",
      "19    7       1\n"
     ]
    }
   ],
   "source": [
    "from sklearn.preprocessing import LabelEncoder \n",
    "le = LabelEncoder()\n",
    "le.fit(X.iloc[:,0])\n",
    "X.iloc[:,0] = le.transform(X.iloc[:,0])\n",
    "print(X)"
   ]
  },
  {
   "cell_type": "code",
   "execution_count": 460,
   "id": "a553c332",
   "metadata": {},
   "outputs": [
    {
     "name": "stdout",
     "output_type": "stream",
     "text": [
      "(16, 2)\n",
      "(4, 2)\n",
      "(16,)\n",
      "(4,)\n"
     ]
    }
   ],
   "source": [
    "from sklearn.model_selection import train_test_split\n",
    "X_train,X_test,y_train,y_test = train_test_split(X,y,test_size=0.2)\n",
    "print(X_train.shape)\n",
    "print(X_test.shape)\n",
    "print(y_train.shape)\n",
    "print(y_test.shape)"
   ]
  },
  {
   "cell_type": "code",
   "execution_count": 461,
   "id": "9b7d3429",
   "metadata": {},
   "outputs": [],
   "source": [
    "# #feature Scaling  \n",
    "# from sklearn.preprocessing import StandardScaler    \n",
    "# st= StandardScaler()    \n",
    "# X_train= st.fit_transform(X_train)    \n",
    "# X_test= st.transform(X_test)  "
   ]
  },
  {
   "cell_type": "code",
   "execution_count": 462,
   "id": "1fb48fdc",
   "metadata": {},
   "outputs": [
    {
     "data": {
      "text/plain": [
       "KNeighborsClassifier(metric='euclidean', n_neighbors=2)"
      ]
     },
     "execution_count": 462,
     "metadata": {},
     "output_type": "execute_result"
    }
   ],
   "source": [
    "#Fitting K-NN classifier to the training set  \n",
    "from sklearn.neighbors import KNeighborsClassifier  \n",
    "classifier= KNeighborsClassifier(n_neighbors=2, metric='euclidean', p=2)  \n",
    "classifier.fit(X_train, y_train)  "
   ]
  },
  {
   "cell_type": "code",
   "execution_count": 463,
   "id": "3b5b930c",
   "metadata": {},
   "outputs": [
    {
     "name": "stderr",
     "output_type": "stream",
     "text": [
      "C:\\ProgramData\\Anaconda3\\lib\\site-packages\\sklearn\\base.py:450: UserWarning: X does not have valid feature names, but KNeighborsClassifier was fitted with feature names\n",
      "  warnings.warn(\n",
      "C:\\ProgramData\\Anaconda3\\lib\\site-packages\\sklearn\\neighbors\\_classification.py:228: FutureWarning: Unlike other reduction functions (e.g. `skew`, `kurtosis`), the default behavior of `mode` typically preserves the axis it acts along. In SciPy 1.11.0, this behavior will change: the default value of `keepdims` will become False, the `axis` over which the statistic is taken will be eliminated, and the value None will no longer be accepted. Set `keepdims` to True or False to avoid this warning.\n",
      "  mode, _ = stats.mode(_y[neigh_ind, k], axis=1)\n"
     ]
    },
    {
     "data": {
      "text/plain": [
       "array(['football'], dtype=object)"
      ]
     },
     "execution_count": 463,
     "metadata": {},
     "output_type": "execute_result"
    }
   ],
   "source": [
    "classifier.predict([[7,0]])"
   ]
  },
  {
   "cell_type": "code",
   "execution_count": 464,
   "id": "71bb0a4b",
   "metadata": {},
   "outputs": [
    {
     "name": "stdout",
     "output_type": "stream",
     "text": [
      "['football' 'football' 'cricket' 'cricket']\n"
     ]
    },
    {
     "name": "stderr",
     "output_type": "stream",
     "text": [
      "C:\\ProgramData\\Anaconda3\\lib\\site-packages\\sklearn\\neighbors\\_classification.py:228: FutureWarning: Unlike other reduction functions (e.g. `skew`, `kurtosis`), the default behavior of `mode` typically preserves the axis it acts along. In SciPy 1.11.0, this behavior will change: the default value of `keepdims` will become False, the `axis` over which the statistic is taken will be eliminated, and the value None will no longer be accepted. Set `keepdims` to True or False to avoid this warning.\n",
      "  mode, _ = stats.mode(_y[neigh_ind, k], axis=1)\n"
     ]
    }
   ],
   "source": [
    "#Predicting the test set result  \n",
    "y_pred= classifier.predict(X_test)  \n",
    "print(y_pred)"
   ]
  },
  {
   "cell_type": "code",
   "execution_count": 465,
   "id": "2302d285",
   "metadata": {},
   "outputs": [
    {
     "name": "stdout",
     "output_type": "stream",
     "text": [
      "[[1 0 0]\n",
      " [0 1 0]\n",
      " [1 1 0]]\n"
     ]
    }
   ],
   "source": [
    "#Creating the Confusion matrix  \n",
    "from sklearn.metrics import confusion_matrix  \n",
    "cm= confusion_matrix(y_test, y_pred)  \n",
    "print(cm)"
   ]
  },
  {
   "cell_type": "code",
   "execution_count": 466,
   "id": "0395da5d",
   "metadata": {},
   "outputs": [
    {
     "name": "stdout",
     "output_type": "stream",
     "text": [
      "Accuracy score :  0.5\n",
      "Precison score :  [0.5 0.5 0. ]\n",
      "Recall score :  [0.5 0.5 0. ]\n",
      "f1 score :  [0.5 0.5 0. ]\n"
     ]
    },
    {
     "name": "stderr",
     "output_type": "stream",
     "text": [
      "C:\\ProgramData\\Anaconda3\\lib\\site-packages\\sklearn\\metrics\\_classification.py:1318: UndefinedMetricWarning: Precision is ill-defined and being set to 0.0 in labels with no predicted samples. Use `zero_division` parameter to control this behavior.\n",
      "  _warn_prf(average, modifier, msg_start, len(result))\n"
     ]
    }
   ],
   "source": [
    "from sklearn.metrics import accuracy_score,precision_score,recall_score,f1_score\n",
    "acc = accuracy_score(y_test,y_pred)\n",
    "pre = precision_score(y_test,y_pred,average=None)\n",
    "rec = recall_score(y_test,y_pred,average=None)\n",
    "f1 = f1_score(y_test,y_pred,average=None)\n",
    "print(\"Accuracy score : \",acc)\n",
    "print(\"Precison score : \",pre)\n",
    "print(\"Recall score : \",pre)\n",
    "print(\"f1 score : \",pre)"
   ]
  },
  {
   "cell_type": "code",
   "execution_count": 469,
   "id": "2aa02ea6",
   "metadata": {},
   "outputs": [
    {
     "data": {
      "text/plain": [
       "<AxesSubplot:>"
      ]
     },
     "execution_count": 469,
     "metadata": {},
     "output_type": "execute_result"
    },
    {
     "data": {
      "image/png": "[encoded data removed]",
      "text/plain": [
       "<Figure size 640x480 with 2 Axes>"
      ]
     },
     "metadata": {},
     "output_type": "display_data"
    }
   ],
   "source": [
    "import seaborn as sns\n",
    "sns.heatmap(cm, annot = True, cmap ='plasma',\n",
    "\t\t\tlinecolor ='black', linewidths = 1)\n"
   ]
  },
  {
   "cell_type": "code",
   "execution_count": null,
   "id": "f7b5cfee",
   "metadata": {},
   "outputs": [],
   "source": []
  }
 ],
 "metadata": {
  "kernelspec": {
   "display_name": "Python 3 (ipykernel)",
   "language": "python",
   "name": "python3"
  },
  "language_info": {
   "codemirror_mode": {
    "name": "ipython",
    "version": 3
   },
   "file_extension": ".py",
   "mimetype": "text/x-python",
   "name": "python",
   "nbconvert_exporter": "python",
   "pygments_lexer": "ipython3",
   "version": "3.9.13"
  }
 },
 "nbformat": 4,
 "nbformat_minor": 5
}
